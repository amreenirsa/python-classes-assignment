{
 "cells": [
  {
   "cell_type": "code",
   "execution_count": 16,
   "metadata": {},
   "outputs": [
    {
     "name": "stdout",
     "output_type": "stream",
     "text": [
      "Obtained marks for subject Maths 77\n",
      "Obtained marks for subject Urdu 77\n",
      "Obtained marks for subject English 77\n",
      " Mark Sheet : \n",
      "  Total Marks : 300\n",
      " Marks Obtained : 231\n",
      "  Percentage : 77.0% \n",
      " Grade : A\n",
      "  Result : Good\n"
     ]
    }
   ],
   "source": [
    "math = int (input(\"Obtained marks for subject Maths \"))\n",
    "urdu = int (input(\"Obtained marks for subject Urdu \"))\n",
    "english = int (input(\"Obtained marks for subject English \"))\n",
    "total = 300\n",
    "sums = math + english + urdu\n",
    "per = (sums / total) * 100\n",
    "sep =\"\\n\"\n",
    "if per>= 80:\n",
    "    grade = \"A-one\"\n",
    "elif per>= 70:\n",
    "    grade = \"A\"\n",
    "elif per>= 60:\n",
    "    grade= \"B\"\n",
    "else: \n",
    "    grade=\"Fail\"\n",
    "    \n",
    "if grade == \"A-one\" :\n",
    "        result = \"Excellent\"\n",
    "elif grade == \"A\" :\n",
    "        result = \"Good\"\n",
    "elif grade == \"B\" :\n",
    "        result = \"You need to improve\"\n",
    "else:\n",
    "        result = \"Sorry yuour fail\"\n",
    "\n",
    "\n",
    "print( \" Mark Sheet : \" + sep + \n",
    "       \"  Total Marks : \" + str(total) + sep + \n",
    "       \" Marks Obtained : \" + str(sums) + sep +\n",
    "       \"  Percentage : \" +  str(per) + \"% \" + sep +\n",
    "       \" Grade : \"+ str(grade) + sep +\n",
    "       \"  Result : \" + str(result) )\n",
    "\n",
    "\n",
    "\n"
   ]
  },
  {
   "cell_type": "code",
   "execution_count": null,
   "metadata": {},
   "outputs": [],
   "source": []
  }
 ],
 "metadata": {
  "kernelspec": {
   "display_name": "Python 3",
   "language": "python",
   "name": "python3"
  },
  "language_info": {
   "codemirror_mode": {
    "name": "ipython",
    "version": 3
   },
   "file_extension": ".py",
   "mimetype": "text/x-python",
   "name": "python",
   "nbconvert_exporter": "python",
   "pygments_lexer": "ipython3",
   "version": "3.7.4"
  }
 },
 "nbformat": 4,
 "nbformat_minor": 2
}
