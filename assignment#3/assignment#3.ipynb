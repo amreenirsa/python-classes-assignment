{
 "cells": [
  {
   "cell_type": "code",
   "execution_count": 4,
   "metadata": {},
   "outputs": [
    {
     "name": "stdin",
     "output_type": "stream",
     "text": [
      "Please enter a operation -\n",
      " Add + \n",
      " Subtract - \n",
      " Multiply * \n",
      " Divide / \n",
      " Power ^ \n",
      "  /\n",
      "Enter first number:  4\n",
      "Enter second number:  3\n"
     ]
    },
    {
     "name": "stdout",
     "output_type": "stream",
     "text": [
      "4 / 3 = 1.3333333333333333\n"
     ]
    }
   ],
   "source": [
    "#1. Make a calculator using Python with addition , subtraction , multiplication ,\n",
    "division and power.\n",
    "\n",
    "# Take input from the user  \n",
    "select = input(\"Please enter a operation -\\n\" \n",
    "        \" Add + \\n\"  \n",
    "        \" Subtract - \\n\" \n",
    "        \" Multiply * \\n\" \n",
    "        \" Divide / \\n\"\n",
    "        \" Power ^ \\n \") \n",
    "  \n",
    "number_1 = int(input(\"Enter first number: \")) \n",
    "number_2 = int(input(\"Enter second number: \")) \n",
    "  \n",
    "if select == '+': \n",
    "    print(number_1, \"+\", number_2, \"=\", \n",
    "                    sum(number_1,number_2)) \n",
    "  \n",
    "elif select == '_': \n",
    "    print(number_1, \"-\", number_2, \"=\", \n",
    "                    number_1 - number_2 ) \n",
    "  \n",
    "elif select == '*': \n",
    "    print(number_1, \"*\", number_2, \"=\", \n",
    "                    number_1 * number_2) \n",
    "  \n",
    "elif select == '/': \n",
    "    print(number_1, \"/\", number_2, \"=\", \n",
    "                    number_1 / number_2) \n",
    "elif select == '^': \n",
    "    print(number_1, \"^\", number_2, \"=\", \n",
    "                    pow(number_1,number_2))\n",
    "else: \n",
    "    print(\"Invalid input\") "
   ]
  },
  {
   "cell_type": "code",
   "execution_count": 5,
   "metadata": {},
   "outputs": [
    {
     "name": "stdin",
     "output_type": "stream",
     "text": [
      "Enter the list size :  4\n"
     ]
    },
    {
     "name": "stdout",
     "output_type": "stream",
     "text": [
      "Enter a Number or string or Boolean 0 :\n"
     ]
    },
    {
     "name": "stdin",
     "output_type": "stream",
     "text": [
      " work\n"
     ]
    },
    {
     "name": "stdout",
     "output_type": "stream",
     "text": [
      "Enter a Number or string or Boolean 1 :\n"
     ]
    },
    {
     "name": "stdin",
     "output_type": "stream",
     "text": [
      " 3\n"
     ]
    },
    {
     "name": "stdout",
     "output_type": "stream",
     "text": [
      "Enter a Number or string or Boolean 2 :\n"
     ]
    },
    {
     "name": "stdin",
     "output_type": "stream",
     "text": [
      " 7\n"
     ]
    },
    {
     "name": "stdout",
     "output_type": "stream",
     "text": [
      "Enter a Number or string or Boolean 3 :\n"
     ]
    },
    {
     "name": "stdin",
     "output_type": "stream",
     "text": [
      " github\n"
     ]
    },
    {
     "name": "stdout",
     "output_type": "stream",
     "text": [
      "List are  ['work', '3', '7', 'github'] \n",
      " Numeric values are =  ['3', '7']\n"
     ]
    }
   ],
   "source": [
    "#2.Write a program to check if there is any numeric value in list using for loop\n",
    "\n",
    "numberList = []\n",
    "n = int(input(\"Enter the list size : \"))\n",
    "for i in range(0, n):\n",
    "    print(\"Enter a Number or string or Boolean\", i, \":\")\n",
    "    item = input()\n",
    "    numberList.append(item)\n",
    "\n",
    "b = []\n",
    "#for i in range(0, n):\n",
    "#   if(type(numberList[i]) == int):\n",
    "#     b.append(numberList[i])\n",
    "for i in range(0, n):\n",
    "    if(numberList[i].isdigit()):\n",
    "       b.append(numberList[i])\n",
    "\n",
    "    \n",
    "print(\"List are \", numberList , \"\\n\" ,\n",
    "      \"Numeric values are = \" , b )    \n"
   ]
  },
  {
   "cell_type": "code",
   "execution_count": 6,
   "metadata": {},
   "outputs": [
    {
     "name": "stdin",
     "output_type": "stream",
     "text": [
      "Enter the Dictionary size :  4\n"
     ]
    },
    {
     "name": "stdout",
     "output_type": "stream",
     "text": [
      "Enter a Dictionary 0 :\n"
     ]
    },
    {
     "name": "stdin",
     "output_type": "stream",
     "text": [
      " work\n"
     ]
    },
    {
     "name": "stdout",
     "output_type": "stream",
     "text": [
      "Enter a Dictionary 1 :\n"
     ]
    },
    {
     "name": "stdin",
     "output_type": "stream",
     "text": [
      " apple\n"
     ]
    },
    {
     "name": "stdout",
     "output_type": "stream",
     "text": [
      "Enter a Dictionary 2 :\n"
     ]
    },
    {
     "name": "stdin",
     "output_type": "stream",
     "text": [
      " iphon\n"
     ]
    },
    {
     "name": "stdout",
     "output_type": "stream",
     "text": [
      "Enter a Dictionary 3 :\n"
     ]
    },
    {
     "name": "stdin",
     "output_type": "stream",
     "text": [
      " 11pro\n"
     ]
    },
    {
     "name": "stdout",
     "output_type": "stream",
     "text": [
      "List are  {0: 'work', 1: 'apple', 2: 'iphon', 3: '11pro'}\n"
     ]
    }
   ],
   "source": [
    "### 3. Write a Python script to add a key to a dictionary\n",
    "\n",
    "numberList = dict()\n",
    "\n",
    "n = int(input(\"Enter the Dictionary size : \"))\n",
    "for i in range(0, n):\n",
    "    print(\"Enter a Dictionary\", i, \":\")\n",
    "    item = input()\n",
    "    numberList.update({i:item})\n",
    "print(\"List are \",numberList)    \n"
   ]
  },
  {
   "cell_type": "code",
   "execution_count": 19,
   "metadata": {},
   "outputs": [
    {
     "name": "stdin",
     "output_type": "stream",
     "text": [
      "Enter the Dictionary size :  4\n"
     ]
    },
    {
     "name": "stdout",
     "output_type": "stream",
     "text": [
      "Enter a Number 0 :\n"
     ]
    },
    {
     "name": "stdin",
     "output_type": "stream",
     "text": [
      " 33\n"
     ]
    },
    {
     "name": "stdout",
     "output_type": "stream",
     "text": [
      "Enter a Number 1 :\n"
     ]
    },
    {
     "name": "stdin",
     "output_type": "stream",
     "text": [
      " 4\n"
     ]
    },
    {
     "name": "stdout",
     "output_type": "stream",
     "text": [
      "Enter a Number 2 :\n"
     ]
    },
    {
     "name": "stdin",
     "output_type": "stream",
     "text": [
      " 5\n"
     ]
    },
    {
     "name": "stdout",
     "output_type": "stream",
     "text": [
      "Enter a Number 3 :\n"
     ]
    },
    {
     "name": "stdin",
     "output_type": "stream",
     "text": [
      " 6\n"
     ]
    },
    {
     "name": "stdout",
     "output_type": "stream",
     "text": [
      "Total numers is  {0: 33, 1: 4, 2: 5, 3: 6}\n",
      "Total sum of Dictionary is 48\n"
     ]
    }
   ],
   "source": [
    "#Write a Python program to sum all the numeric items in a dictionary\n",
    "numberList = dict()\n",
    "\n",
    "n = int(input(\"Enter the Dictionary size : \"))\n",
    "for i in range(0, n):\n",
    "    print(\"Enter a Number\", i, \":\")\n",
    "    item = int(input())\n",
    "    numberList.update({i:item})\n",
    "print(\"Total numers is \", numberList)\n",
    "sum = 0\n",
    "for a in numberList.values():\n",
    "    sum = sum+a\n",
    "    \n",
    "print (\"Total sum of Dictionary is\" , sum)   \n",
    "\n"
   ]
  },
  {
   "cell_type": "code",
   "execution_count": 36,
   "metadata": {},
   "outputs": [
    {
     "name": "stdin",
     "output_type": "stream",
     "text": [
      "Enter the list size :  6\n"
     ]
    },
    {
     "name": "stdout",
     "output_type": "stream",
     "text": [
      "Enter Number  0 :\n"
     ]
    },
    {
     "name": "stdin",
     "output_type": "stream",
     "text": [
      " 7\n"
     ]
    },
    {
     "name": "stdout",
     "output_type": "stream",
     "text": [
      "Enter Number  1 :\n"
     ]
    },
    {
     "name": "stdin",
     "output_type": "stream",
     "text": [
      " 3\n"
     ]
    },
    {
     "name": "stdout",
     "output_type": "stream",
     "text": [
      "Enter Number  2 :\n"
     ]
    },
    {
     "name": "stdin",
     "output_type": "stream",
     "text": [
      " 8\n"
     ]
    },
    {
     "name": "stdout",
     "output_type": "stream",
     "text": [
      "Enter Number  3 :\n"
     ]
    },
    {
     "name": "stdin",
     "output_type": "stream",
     "text": [
      " 3\n"
     ]
    },
    {
     "name": "stdout",
     "output_type": "stream",
     "text": [
      "Enter Number  4 :\n"
     ]
    },
    {
     "name": "stdin",
     "output_type": "stream",
     "text": [
      " 5\n"
     ]
    },
    {
     "name": "stdout",
     "output_type": "stream",
     "text": [
      "Enter Number  5 :\n"
     ]
    },
    {
     "name": "stdin",
     "output_type": "stream",
     "text": [
      " 4\n"
     ]
    },
    {
     "name": "stdout",
     "output_type": "stream",
     "text": [
      "Total numers is  [7, 3, 8, 3, 5, 4]\n",
      "Sorted Number  [3, 3, 4, 5, 7, 8]\n",
      "Duplictae Numbers are  [3]\n"
     ]
    }
   ],
   "source": [
    "#Write a program to identify duplicate values from list\n",
    "\n",
    "numberList = []\n",
    "n = int(input(\"Enter the list size : \"))\n",
    "for i in range(0, n):\n",
    "    print(\"Enter Number \", i, \":\")\n",
    "    item = int(input())\n",
    "    numberList.append(item)\n",
    "    \n",
    "print(\"Total numers is \", numberList)\n",
    "numberList.sort()\n",
    "print(\"Sorted Number \", numberList)\n",
    "\n",
    "\n",
    "new_list = sorted(set(numberList))\n",
    "\n",
    "dup_list =[]\n",
    "for i in range(len(new_list)):\n",
    "    if (numberList.count(new_list[i]) > 1 ):\n",
    "            dup_list.append(new_list[i])\n",
    "        \n",
    "\n",
    "print(\"Duplictae Numbers are \", dup_list)\n"
   ]
  },
  {
   "cell_type": "code",
   "execution_count": 3,
   "metadata": {},
   "outputs": [
    {
     "name": "stdin",
     "output_type": "stream",
     "text": [
      "Enter the Dictionary size :  5\n"
     ]
    },
    {
     "name": "stdout",
     "output_type": "stream",
     "text": [
      "Enter Dictionary 0 :\n"
     ]
    },
    {
     "name": "stdin",
     "output_type": "stream",
     "text": [
      " car\n"
     ]
    },
    {
     "name": "stdout",
     "output_type": "stream",
     "text": [
      "Enter Dictionary 1 :\n"
     ]
    },
    {
     "name": "stdin",
     "output_type": "stream",
     "text": [
      " bak\n"
     ]
    },
    {
     "name": "stdout",
     "output_type": "stream",
     "text": [
      "Enter Dictionary 2 :\n"
     ]
    },
    {
     "name": "stdin",
     "output_type": "stream",
     "text": [
      " home\n"
     ]
    },
    {
     "name": "stdout",
     "output_type": "stream",
     "text": [
      "Enter Dictionary 3 :\n"
     ]
    },
    {
     "name": "stdin",
     "output_type": "stream",
     "text": [
      " cash\n"
     ]
    },
    {
     "name": "stdout",
     "output_type": "stream",
     "text": [
      "Enter Dictionary 4 :\n"
     ]
    },
    {
     "name": "stdin",
     "output_type": "stream",
     "text": [
      " money\n"
     ]
    },
    {
     "name": "stdout",
     "output_type": "stream",
     "text": [
      "Dictionary is  {0: 'car', 1: 'bak', 2: 'home', 3: 'cash', 4: 'money'}\n"
     ]
    },
    {
     "name": "stdin",
     "output_type": "stream",
     "text": [
      "give key to check :  3\n"
     ]
    },
    {
     "name": "stdout",
     "output_type": "stream",
     "text": [
      "3 exists in list of numbers\n"
     ]
    }
   ],
   "source": [
    "#6.Write a Python script to check if a given key already exists in a dictionary\n",
    "numberList = dict()\n",
    "\n",
    "n = int(input(\"Enter the Dictionary size : \"))\n",
    "for i in range(0, n):\n",
    "    print(\"Enter Dictionary\", i, \":\")\n",
    "    item = input()\n",
    "    numberList.update({i:item})\n",
    "print(\"Dictionary is \", numberList)\n",
    "\n",
    "key= int(input(\"give key to check : \"))\n",
    "for a in numberList.keys():\n",
    "    if(key == a):\n",
    "        print(str(key) +\" exists in list of numbers\")\n",
    "        "
   ]
  },
  {
   "cell_type": "code",
   "execution_count": null,
   "metadata": {},
   "outputs": [],
   "source": []
  },
  {
   "cell_type": "code",
   "execution_count": null,
   "metadata": {},
   "outputs": [],
   "source": []
  },
  {
   "cell_type": "code",
   "execution_count": null,
   "metadata": {},
   "outputs": [],
   "source": []
  }
 ],
 "metadata": {
  "kernelspec": {
   "display_name": "Python 3",
   "language": "python",
   "name": "python3"
  },
  "language_info": {
   "codemirror_mode": {
    "name": "ipython",
    "version": 3
   },
   "file_extension": ".py",
   "mimetype": "text/x-python",
   "name": "python",
   "nbconvert_exporter": "python",
   "pygments_lexer": "ipython3",
   "version": "3.7.4"
  }
 },
 "nbformat": 4,
 "nbformat_minor": 4
}
