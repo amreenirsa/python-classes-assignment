{
 "cells": [
  {
   "cell_type": "code",
   "execution_count": 2,
   "metadata": {},
   "outputs": [
    {
     "name": "stdin",
     "output_type": "stream",
     "text": [
      "Obtained marks for subject Maths  55\n",
      "Obtained marks for subject Urdu  55\n",
      "Obtained marks for subject English  55\n",
      "Obtained marks for subject Chemistry  55\n",
      "Obtained marks for subjec Computer   55\n"
     ]
    },
    {
     "name": "stdout",
     "output_type": "stream",
     "text": [
      " Mark Sheet : \n",
      "  Total Marks : 500\n",
      " Marks Obtained : 275\n",
      "  Percentage : 55.00000000000001% \n",
      " Grade : Fail\n",
      "  Result : Sorry yuour fail\n"
     ]
    }
   ],
   "source": [
    "\"\"\"Write a program which takes 5 inputs from user for different subject’s\n",
    "marks, total it and generate mark sheet using grades ?\"\"\"\"\n",
    "\n",
    "math = int (input(\"Obtained marks for subject Maths \"))\n",
    "urdu = int (input(\"Obtained marks for subject Urdu \"))\n",
    "english = int (input(\"Obtained marks for subject English \"))\n",
    "chemistry = int (input(\"Obtained marks for subject Chemistry \"))\n",
    "computer = int (input(\"Obtained marks for subjec Computer  \"))\n",
    "total = 500\n",
    "sums = math + english + urdu + chemistry + computer \n",
    "per = (sums / total) * 100\n",
    "sep =\"\\n\"\n",
    "if per>= 80:\n",
    "    grade = \"A-one\"\n",
    "elif per>= 70:\n",
    "    grade = \"A\"\n",
    "elif per>= 60:\n",
    "    grade= \"B\"\n",
    "else: \n",
    "    grade=\"Fail\"\n",
    "    \n",
    "if grade == \"A-one\" :\n",
    "        result = \"Excellent\"\n",
    "elif grade == \"A\" :\n",
    "        result = \"Good\"\n",
    "elif grade == \"B\" :\n",
    "        result = \"You need to improve\"\n",
    "else:\n",
    "        result = \"Sorry yuour fail\"\n",
    "\n",
    "\n",
    "print( \" Mark Sheet : \" + sep + \n",
    "       \"  Total Marks : \" + str(total) + sep + \n",
    "       \" Marks Obtained : \" + str(sums) + sep +\n",
    "       \"  Percentage : \" +  str(per) + \"% \" + sep +\n",
    "       \" Grade : \"+ str(grade) + sep +\n",
    "       \"  Result : \" + str(result) )"
   ]
  },
  {
   "cell_type": "code",
   "execution_count": 6,
   "metadata": {},
   "outputs": [
    {
     "name": "stdin",
     "output_type": "stream",
     "text": [
      "please enter the Number 7\n"
     ]
    },
    {
     "name": "stdout",
     "output_type": "stream",
     "text": [
      "you entered a odd number\n"
     ]
    }
   ],
   "source": [
    "\"\"\"\"2. Write a program which take input from user and identify that the given\n",
    "number is even or odd?\"\"\"\n",
    "num = int (input(\"please enter the Number\"))\n",
    "if 2%num == 0 :\n",
    "    print(\"you entered a even number\")\n",
    "else :\n",
    "    print(\"you entered a odd number\")"
   ]
  },
  {
   "cell_type": "code",
   "execution_count": 4,
   "metadata": {},
   "outputs": [
    {
     "name": "stdout",
     "output_type": "stream",
     "text": [
      "enter your 3 task!\n"
     ]
    },
    {
     "name": "stdin",
     "output_type": "stream",
     "text": [
      "task 1  rr\n",
      "task 2  rr\n",
      "task 3  rr\n"
     ]
    },
    {
     "name": "stdout",
     "output_type": "stream",
     "text": [
      "the length of the list is 3\n"
     ]
    }
   ],
   "source": [
    "\"\"\"\"3. Write a program which print the length of the list?\"\"\"\n",
    "print(\"enter your 3 task!\")\n",
    "t1    = input(\"task 1 \")\n",
    "t2    = input(\"task 2 \")\n",
    "t3  = input(\"task 3 \")\n",
    "task = [t1 ,t2 ,t3 ] \n",
    "print(\"the length of the list is\" , len(task) )\n",
    "\n"
   ]
  },
  {
   "cell_type": "code",
   "execution_count": 9,
   "metadata": {},
   "outputs": [
    {
     "name": "stdin",
     "output_type": "stream",
     "text": [
      "Enter the list size :  2\n"
     ]
    },
    {
     "name": "stdout",
     "output_type": "stream",
     "text": [
      "Enter Number  0 :\n"
     ]
    },
    {
     "name": "stdin",
     "output_type": "stream",
     "text": [
      " 3\n"
     ]
    },
    {
     "name": "stdout",
     "output_type": "stream",
     "text": [
      "Enter Number  1 :\n"
     ]
    },
    {
     "name": "stdin",
     "output_type": "stream",
     "text": [
      " 4\n"
     ]
    },
    {
     "name": "stdout",
     "output_type": "stream",
     "text": [
      "Total numers is  [3, 4]\n",
      "total sum of list is 7\n"
     ]
    }
   ],
   "source": [
    "## '''Write a Python program to sum all the numeric items in a list?'''\n",
    "\n",
    "numberList = []\n",
    "n = int(input(\"Enter the list size : \"))\n",
    "for i in range(0, n):\n",
    "    print(\"Enter Number \", i, \":\")\n",
    "    item = int(input())\n",
    "    numberList.append(item)\n",
    "print(\"Total numers is \", numberList)\n",
    "sum=0\n",
    "for s in range(0,len(numberList)):\n",
    "   sum=sum+numberList[s]\n",
    "print (\"total sum of list is\" , sum)   \n",
    "\n"
   ]
  },
  {
   "cell_type": "code",
   "execution_count": 3,
   "metadata": {},
   "outputs": [
    {
     "name": "stdin",
     "output_type": "stream",
     "text": [
      "Enter the list size :  5\n"
     ]
    },
    {
     "name": "stdout",
     "output_type": "stream",
     "text": [
      "Enter Number  0 :\n"
     ]
    },
    {
     "name": "stdin",
     "output_type": "stream",
     "text": [
      " 3\n"
     ]
    },
    {
     "name": "stdout",
     "output_type": "stream",
     "text": [
      "Enter Number  1 :\n"
     ]
    },
    {
     "name": "stdin",
     "output_type": "stream",
     "text": [
      " 4\n"
     ]
    },
    {
     "name": "stdout",
     "output_type": "stream",
     "text": [
      "Enter Number  2 :\n"
     ]
    },
    {
     "name": "stdin",
     "output_type": "stream",
     "text": [
      " 5\n"
     ]
    },
    {
     "name": "stdout",
     "output_type": "stream",
     "text": [
      "Enter Number  3 :\n"
     ]
    },
    {
     "name": "stdin",
     "output_type": "stream",
     "text": [
      " 6\n"
     ]
    },
    {
     "name": "stdout",
     "output_type": "stream",
     "text": [
      "Enter Number  4 :\n"
     ]
    },
    {
     "name": "stdin",
     "output_type": "stream",
     "text": [
      " 8\n"
     ]
    },
    {
     "name": "stdout",
     "output_type": "stream",
     "text": [
      "Number list are  [3, 4, 5, 6, 8] \n",
      " largest number is  8\n"
     ]
    }
   ],
   "source": [
    "#5. Write a Python program to get the largest number from a numeric list.  \n",
    "numberList = []\n",
    "n = int(input(\"Enter the list size : \"))\n",
    "for i in range(0, n):\n",
    "    print(\"Enter Number \", i, \":\")\n",
    "    item = int(input())\n",
    "    numberList.append(item)\n",
    "print(\"Number list are \", numberList , \"\\n\" , \"Largest number is \", max(numberList))"
   ]
  },
  {
   "cell_type": "code",
   "execution_count": 4,
   "metadata": {},
   "outputs": [
    {
     "name": "stdin",
     "output_type": "stream",
     "text": [
      "Enter the list size :  5\n"
     ]
    },
    {
     "name": "stdout",
     "output_type": "stream",
     "text": [
      "Enter Number  0 :\n"
     ]
    },
    {
     "name": "stdin",
     "output_type": "stream",
     "text": [
      " 4\n"
     ]
    },
    {
     "name": "stdout",
     "output_type": "stream",
     "text": [
      "Enter Number  1 :\n"
     ]
    },
    {
     "name": "stdin",
     "output_type": "stream",
     "text": [
      " 4\n"
     ]
    },
    {
     "name": "stdout",
     "output_type": "stream",
     "text": [
      "Enter Number  2 :\n"
     ]
    },
    {
     "name": "stdin",
     "output_type": "stream",
     "text": [
      " 3\n"
     ]
    },
    {
     "name": "stdout",
     "output_type": "stream",
     "text": [
      "Enter Number  3 :\n"
     ]
    },
    {
     "name": "stdin",
     "output_type": "stream",
     "text": [
      " 5\n"
     ]
    },
    {
     "name": "stdout",
     "output_type": "stream",
     "text": [
      "Enter Number  4 :\n"
     ]
    },
    {
     "name": "stdin",
     "output_type": "stream",
     "text": [
      " 6\n"
     ]
    },
    {
     "name": "stdout",
     "output_type": "stream",
     "text": [
      "Number list are  [4, 4, 3, 5, 6] \n",
      " numbers that are less then 5 =  [4, 4, 3]\n"
     ]
    }
   ],
   "source": [
    "\"\"\"6.Take a list, say for example this one: \n",
    "   a = [1, 1, 2, 3, 5, 8, 13, 21, 34, 55, 89] \n",
    "and write a program that prints out all the elements of the list that are less than 5. \"\"\"\n",
    "numberList = []\n",
    "n = int(input(\"Enter the list size : \"))\n",
    "for i in range(0, n):\n",
    "    print(\"Enter Number \", i, \":\")\n",
    "    item = int(input())\n",
    "    numberList.append(item)\n",
    "b=[]\n",
    "for i in range(0, n):\n",
    "    if(numberList[i]<5):\n",
    "       b.append(numberList[i])\n",
    "print(\"Number list are \", numberList , \"\\n\" ,\n",
    "      \"Numbers that are less then 5 = \" , b )    "
   ]
  },
  {
   "cell_type": "code",
   "execution_count": null,
   "metadata": {},
   "outputs": [],
   "source": []
  }
 ],
 "metadata": {
  "kernelspec": {
   "display_name": "Python 3",
   "language": "python",
   "name": "python3"
  },
  "language_info": {
   "codemirror_mode": {
    "name": "ipython",
    "version": 3
   },
   "file_extension": ".py",
   "mimetype": "text/x-python",
   "name": "python",
   "nbconvert_exporter": "python",
   "pygments_lexer": "ipython3",
   "version": "3.7.4"
  }
 },
 "nbformat": 4,
 "nbformat_minor": 4
}
