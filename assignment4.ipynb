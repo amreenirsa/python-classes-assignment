{
 "cells": [
  {
   "cell_type": "code",
   "execution_count": 3,
   "metadata": {},
   "outputs": [
    {
     "name": "stdin",
     "output_type": "stream",
     "text": [
      "1:grand central terminal, park avenue, new york is the world's?\n",
      " a-largest railway station \n",
      " b-highest railway station\n",
      " c-longest railway station \n",
      " d-none of the above\n",
      "  largest railway station\n",
      "2:entomology is the science that studies\n",
      " a-behavior of human beings \n",
      " b-insects\n",
      " c-the origin and history of technical and scientific terms \n",
      " d-the formation of rocks\n",
      "  insects\n",
      "3:eritrea, which became the 182nd member of the un in 1993, is in the continent of\n",
      " a-asia \n",
      " b-africa\n",
      " c-europe \n",
      " d-australia\n",
      "  africa\n"
     ]
    },
    {
     "name": "stdout",
     "output_type": "stream",
     "text": [
      " Mark Sheet : \n",
      "  Total Marks : 300\n",
      " Marks Obtained : 200\n",
      "Correct Answer : 2\n",
      "  Percentage : 66.66666666666666% \n",
      " Grade : B\n",
      "  Result : You need to improve\n"
     ]
    }
   ],
   "source": [
    "\"\"\"Class Assignment !\n",
    "Marksheet \n",
    "\"\"\"\"\n",
    "questions = [\n",
    "    {\n",
    "        \"s.no\" : 1,\n",
    "    \"question\" : \"Grand Central Terminal, Park Avenue, New York is the world's?\" ,\n",
    "    \"options\" : [\"A-largest railway station\",\"B-highest railway station\",\"C-longest railway station\",\"D-None of the above\"],\n",
    "    \"answer\" : \"largest railway station\"},\n",
    "    \n",
    "    {\n",
    "        \"s.no\" : 2,\n",
    "    \"question\" : \"Entomology is the science that studies\",\n",
    "    \"options\" : [\"A-Behavior of human beings\",\"B-Insects\",\"C-The origin and history of technical and scientific terms\",\"D-The formation of rocks\"],\n",
    "    \"answer\" : \"The origin and history of technical and scientific terms\"\n",
    "    },\n",
    "    \n",
    "    {\n",
    "        \"s.no\" : 3,\n",
    "    \"question\" : \"Eritrea, which became the 182nd member of the UN in 1993, is in the continent of\" ,\n",
    "    \"options\" : [\"A-Asia\",\"B-Africa\",\"C-Europe\",\"D-Australia\"],\n",
    "    \"answer\" : \"Africa\"},\n",
    "\n",
    "]\n",
    "\n",
    "\n",
    "score = 0\n",
    "correctAns = 0\n",
    "\n",
    "for question in questions:\n",
    "    data = str(question[\"s.no\"]) + \":\" + question[\"question\"].lower() + \"\\n \" + question[\"options\"][0].lower() + \" \\n \" + question[\"options\"][1].lower() + \"\\n \" + question[\"options\"][2].lower() + \" \\n \" + question[\"options\"][3].lower()+ \"\\n \"\n",
    "    answer =input(data)\n",
    "    answer.lower()\n",
    "    if answer == question[\"answer\"].lower():\n",
    "        score += 100\n",
    "        correctAns += 1\n",
    "\n",
    "total = 300\n",
    "per = (score / total) * 100\n",
    "\n",
    "\n",
    "if per>= 80:\n",
    "    grade = \"A-one\"\n",
    "elif per>= 70:\n",
    "    grade = \"A\"\n",
    "elif per>= 60:\n",
    "    grade= \"B\"\n",
    "else: \n",
    "    grade=\"Fail\"\n",
    "    \n",
    "if grade == \"A-one\" :\n",
    "        result = \"Excellent\"\n",
    "elif grade == \"A\" :\n",
    "        result = \"Good\"\n",
    "elif grade == \"B\" :\n",
    "        result = \"You need to improve\"\n",
    "else:\n",
    "        result = \"Sorry yuour fail\"\n",
    "\n",
    "sep =\"\\n\"\n",
    "    \n",
    "\n",
    "print( \" Mark Sheet : \" + sep + \n",
    "       \"  Total Marks : \" + str(total) + sep + \n",
    "       \" Marks Obtained : \" + str(score) + sep +\n",
    "       \"Correct Answer : \" + str(correctAns) + sep +\n",
    "       \"  Percentage : \" +  str(per) + \"% \" + sep +\n",
    "       \" Grade : \"+ str(grade) + sep +\n",
    "       \"  Result : \" + str(result) )\n"
   ]
  },
  {
   "cell_type": "code",
   "execution_count": 1,
   "metadata": {},
   "outputs": [
    {
     "name": "stdin",
     "output_type": "stream",
     "text": [
      "Enter the No of customer you want to add information:  3\n",
      "Customer Id E1\n",
      "S.No 1\n",
      "first Name sara\n",
      "Last Name ali\n",
      "Age 22\n",
      "qualification graduation\n",
      "city karachi\n",
      "Customer Id E2\n",
      "S.No 2\n",
      "first Name ali\n",
      "Last Name humza\n",
      "Age 17\n",
      "qualification inter\n",
      "city karachi\n",
      "Customer Id E3\n",
      "S.No 3\n",
      "first Name humza\n",
      "Last Name abbas\n",
      "Age 21\n",
      "qualification inetr\n",
      "city islamabad\n"
     ]
    },
    {
     "name": "stdout",
     "output_type": "stream",
     "text": [
      "Total Customers  are  {'E1': {'S.No': '1', 'firstName': 'sara', 'lastName': 'ali', 'age': '22', 'qualification': 'graduation', 'city': 'karachi'}, 'E2': {'S.No': '2', 'firstName': 'ali', 'lastName': 'humza', 'age': '17', 'qualification': 'inter', 'city': 'karachi'}, 'E3': {'S.No': '3', 'firstName': 'humza', 'lastName': 'abbas', 'age': '21', 'qualification': 'inetr', 'city': 'islamabad'}}\n"
     ]
    },
    {
     "name": "stdin",
     "output_type": "stream",
     "text": [
      "please enter customer Id ? E3\n"
     ]
    },
    {
     "name": "stdout",
     "output_type": "stream",
     "text": [
      "{'S.No': '3', 'firstName': 'humza', 'lastName': 'abbas', 'age': '21', 'qualification': 'inetr', 'city': 'islamabad'}\n"
     ]
    },
    {
     "name": "stdin",
     "output_type": "stream",
     "text": [
      "Higher qualification Graduation\n"
     ]
    },
    {
     "name": "stdout",
     "output_type": "stream",
     "text": [
      "{'S.No': '3', 'firstName': 'humza', 'lastName': 'abbas', 'age': '21', 'city': 'islamabad', 'Higher qualification': 'Graduation'}\n"
     ]
    }
   ],
   "source": [
    "\"\"\"\"Question1:\n",
    "Use a dictionary to store information about a person you know. Store their first name, last name, age,\n",
    "and the city in which they live. You should have keys such as first_name, last_name, age, and city. Print\n",
    "each piece of information stored in your dictionary. Add a new key value pair about qualification then\n",
    "update the qualification value to high academic level then delete it.\"\"\"\n",
    "\n",
    "information = dict()\n",
    "n = int(input(\"Enter the No of customer you want to add information: \"))\n",
    "\n",
    "for i in range(0, n):\n",
    "    customerId = input(\"Customer Id\")\n",
    "    sNo = input(\"S.No\")\n",
    "    firstName = input(\"first Name\")\n",
    "    lastName = input(\"Last Name\")\n",
    "    age = input(\"Age\")\n",
    "    qualification = input(\"qualification\")\n",
    "    city = input(\"city\")\n",
    "    information.update({customerId : {\"S.No\":sNo,\n",
    "                      \"firstName\":firstName,\n",
    "                      \"lastName\":lastName,\n",
    "                      \"age\":age,\n",
    "                      \"qualification\":qualification,\n",
    "                      \"city\":city ,\n",
    "                    \n",
    "                                     }} )\n",
    "    \n",
    "print(\"Total Customers  are \", information) ;\n",
    "\n",
    "findbyId = input(\"please enter customer Id ?\")\n",
    "print(information[findbyId])\n",
    "\n",
    "for i in range(0, 1):\n",
    "    H_qualification = input(\"Higher qualification\")\n",
    "    del information[findbyId][\"qualification\"]\n",
    "    information[findbyId].update({\"Higher qualification\":H_qualification})\n",
    "    \n",
    "    \n",
    "print(information[findbyId])    \n",
    "    "
   ]
  },
  {
   "cell_type": "code",
   "execution_count": 5,
   "metadata": {},
   "outputs": [
    {
     "name": "stdout",
     "output_type": "stream",
     "text": [
      "{'karachi': {'city': 'Karachi', 'country': 'Pakistan', 'population': '14.91 million (2017)', 'fact': 'It is the Sixth largest city in the world by city population. '}, 'canberra': {'city': 'Canberra', 'country': ' Australia', 'population': '395,790 (2016)', 'fact': \"Canberra is Australia's largest inland city and also her capital.\"}, 'newYork': {'city': 'New York', 'country': 'America', 'population': '8.623 million (2017)', 'fact': 'New York City is made up of five boroughs: Manhattan, The Bronx, Queens, Brooklyn, and Staten Island.'}}\n",
      "\n",
      "please enter the city name\n",
      "1- karachi ,2- canberra ,3- newYork ? canberra\n",
      "\n",
      " {'city': 'Canberra', 'country': ' Australia', 'population': '395,790 (2016)', 'fact': \"Canberra is Australia's largest inland city and also her capital.\"}\n"
     ]
    }
   ],
   "source": [
    "\"\"\"\"Question2:\n",
    "Make a dictionary called cities. Use the names of three cities as keys in your dictionary. Create a\n",
    "dictionary of information about each city and include the country that the city is in, its approximate\n",
    "population, and one fact about that city. The keys for each city’s dictionary should be something like\n",
    "country, population, and fact. Print the name of each city and all of the information you have stored\n",
    "about it.\"\"\"\n",
    "cities = {\n",
    "\"karachi\" : { \n",
    "        \"city\" : \"Karachi\" ,\n",
    "        \"country\" : \"Pakistan\" ,\n",
    "        \"population\" : \"14.91 million (2017)\" ,\n",
    "        \"fact\" : \"It is the Sixth largest city in the world by city population. \" ,\n",
    "    },\n",
    "\"canberra\": { \n",
    "        \"city\" : \"Canberra\" ,\n",
    "        \"country\" : \" Australia\" ,\n",
    "        \"population\" : \"395,790 (2016)\" ,\n",
    "        \"fact\" : \"Canberra is Australia's largest inland city and also her capital.\" ,\n",
    "    },\n",
    "\"newYork\": { \n",
    "        \"city\" : \"New York\" ,\n",
    "        \"country\" : \"America\" ,\n",
    "        \"population\" : \"8.623 million (2017)\" ,\n",
    "        \"fact\" : \"New York City is made up of five boroughs: Manhattan, The Bronx, Queens, Brooklyn, and Staten Island.\" ,\n",
    "    }\n",
    "}\n",
    "print(cities)\n",
    "findbykey = input(\"\\n\" + \"please enter the city name\" + \"\\n\" + \"1- karachi ,2- canberra ,3- newYork ? \")\n",
    "print( \"\\n\" , cities[findbykey] )"
   ]
  },
  {
   "cell_type": "code",
   "execution_count": 6,
   "metadata": {},
   "outputs": [
    {
     "name": "stdout",
     "output_type": "stream",
     "text": [
      "How many ticket you want : 5\n",
      "first NameAli\n",
      "Last Nameahmed\n",
      "Age2\n",
      "first Namehumza\n",
      "Last Nameahmed\n",
      "Age3\n",
      "first Namess\n",
      "Last Namess\n",
      "Age11\n",
      "first Namecdd\n",
      "Last Namecc\n",
      "Age12\n",
      "first Namedddd\n",
      "Last Namedd\n",
      "Age13\n",
      "Total Customers  are  {0: {'S.No': 0, 'firstName': 'Ali', 'lastName': 'ahmed', 'age': 2, 'Price': 0}, 1: {'S.No': 1, 'firstName': 'humza', 'lastName': 'ahmed', 'age': 3, 'Price': 10}, 2: {'S.No': 2, 'firstName': 'ss', 'lastName': 'ss', 'age': 11, 'Price': 10}, 3: {'S.No': 3, 'firstName': 'cdd', 'lastName': 'cc', 'age': 12, 'Price': 15}, 4: {'S.No': 4, 'firstName': 'dddd', 'lastName': 'dd', 'age': 13, 'Price': 15}}\n",
      "Total numers is  15\n"
     ]
    }
   ],
   "source": [
    "\"\"\"Question3:\n",
    "A movie theater charges different ticket prices depending on a person’s age. If a person is under the age\n",
    "of 3, the ticket is free; if they are between 3 and 12, the ticket is $10; and if they are over age 12, the\n",
    "ticket is $15. Write a loop in which you ask users their age, and then tell them the cost of their movie\n",
    "ticket.\"\"\"\n",
    "information = dict()\n",
    "numberticket = int(input(\"How many ticket you want : \"))\n",
    "\n",
    "\n",
    "for i in range(0, numberticket):\n",
    "    firstName = input(\"first Name\")\n",
    "    lastName = input(\"Last Name\")\n",
    "    age = int(input(\"Age\"))\n",
    "    if age< 3:\n",
    "        price =  0\n",
    "    elif age == 3 or age < 12 :\n",
    "        price =  10\n",
    "    elif age == 12 or age > 12: \n",
    "        price = 15\n",
    "    information.update({i : {\"S.No\":i,\n",
    "                      \"firstName\":firstName,\n",
    "                      \"lastName\":lastName,\n",
    "                      \"age\":age,\n",
    "                      \"Price\":price,\n",
    "                       }})\n",
    "print(\"Total Customers  are \", information) ;\n",
    "sum = 0\n",
    "if age< 3:\n",
    "    sum = sum + 0\n",
    "elif age == 3 or age < 12 :\n",
    "    sum =  sum + 10\n",
    "elif age == 12 or age >= 12: \n",
    "    sum = sum + 15\n",
    "print(\"Total Bill is \", sum)"
   ]
  },
  {
   "cell_type": "code",
   "execution_count": 18,
   "metadata": {},
   "outputs": [
    {
     "name": "stdout",
     "output_type": "stream",
     "text": [
      "Book Title is :Play It as It Lays by Joan Didion\n",
      "message :Didion eloquently captures both the beauty and the danger of Southern California.\n"
     ]
    }
   ],
   "source": [
    "\"\"\"Question4:\n",
    "Write a function called favorite_book() that accepts one parameter, title. The function should print a\n",
    "message, such as One of my favorite books is Alice in Wonderland. Call the function, making sure to\n",
    "include a book title as an argument in the function call.\"\"\"\n",
    "def favorite_book(title):\n",
    "    \n",
    "    print(\"Book Title is :\" + title + \"\\n\" + \"message :\"+ \"Didion eloquently captures both the beauty and the danger of Southern California.\")\n",
    "favorite_book(title=\"Play It as It Lays by Joan Didion\")"
   ]
  },
  {
   "cell_type": "code",
   "execution_count": 1,
   "metadata": {},
   "outputs": [
    {
     "name": "stdout",
     "output_type": "stream",
     "text": [
      "Hello! What is your name? Ali\n",
      "Ali, I am thinking of a whole number between 1 and 30. Can you guess what it is?\n",
      "2\n",
      "please guess the number !1\n",
      "Good : you are too near the number !\n",
      "Hint ! add 1 to 5 digit 2 guesses left\n",
      "\n",
      "please guess the number !4\n",
      "Good : you are too near the number !\n",
      " Hint !less 1 to 5 digit 1 guesses left\n",
      "\n",
      "please guess the number !2\n",
      "Ali Good job! You guessed the number in 3 tries :)\n",
      "\n"
     ]
    }
   ],
   "source": [
    "\"\"\"Question5:\n",
    "Guess the number game\n",
    "Write a program which randomly generate a number between 1 to 30 and ask the user in input field to guess the correct number. Give three chances to user guess the number and also give hint to user if hidden number is greater or smaller than the number he given to input field.\n",
    "\"\"\"\n",
    "import random\n",
    "number = random.randint(1,30)\n",
    "name = input(\"Hello! What is your name? \")\n",
    "print( name  + \", I am thinking of a whole number between 1 and 30. Can you guess what it is?\" )\n",
    "print(number)#i know its guess the number but here i want to show hint so i print  \n",
    "    \n",
    "def my_function(guess,number,numberofGuesses):\n",
    "    guessesLeft = 3 - numberofGuesses;\n",
    "    if guess < number:\n",
    "        a = number - guess\n",
    "        guessesLeft = str(guessesLeft)\n",
    "        if a<5:\n",
    "            print(\"Good : you are too near the number !\"+ \"\\n\" +\"Hint ! add 1 to 5 digit \" + guessesLeft + \" guesses left\" + \"\\n\")\n",
    "        else:\n",
    "            print(\"Your guess is too low! You have \" + guessesLeft + \" guesses left\")\n",
    "    elif guess > number:\n",
    "        b =  guess - number\n",
    "        guessesLeft=str(guessesLeft)\n",
    "        if b<5:\n",
    "            print(\"Good : you are too near the number !\"+ \"\\n\" +\" Hint !less 1 to 5 digit \"+ guessesLeft + \" guesses left\"+ \"\\n\")\n",
    "        else:\n",
    "            print(\"Your guess is too high! You have \" + guessesLeft + \" guesses left\" + \"\\n\")\n",
    "    elif guess==number:\n",
    "        numberofGuesses=str(numberofGuesses)\n",
    "        print( name +\" Good job! You guessed the number in \" + numberofGuesses + \" tries :)\" + \"\\n\")\n",
    "    \n",
    "        \n",
    "numberofGuesses = 0        \n",
    "for i in range(0,3):\n",
    "    guess =int(input(\"please guess the number !\"))\n",
    "    numberofGuesses +=  1;\n",
    "    my_function(guess,number,numberofGuesses)\n",
    "    if guess == number or guess >30 :\n",
    "        break\n",
    "    elif numberofGuesses == 3:\n",
    "        number=str(number)\n",
    "        print( \"\\n\" + name +\" Sorry. The number I was thinking of was \" + number + \" :)\")"
   ]
  },
  {
   "cell_type": "code",
   "execution_count": null,
   "metadata": {},
   "outputs": [],
   "source": []
  },
  {
   "cell_type": "code",
   "execution_count": null,
   "metadata": {},
   "outputs": [],
   "source": []
  }
 ],
 "metadata": {
  "kernelspec": {
   "display_name": "Python 3",
   "language": "python",
   "name": "python3"
  },
  "language_info": {
   "codemirror_mode": {
    "name": "ipython",
    "version": 3
   },
   "file_extension": ".py",
   "mimetype": "text/x-python",
   "name": "python",
   "nbconvert_exporter": "python",
   "pygments_lexer": "ipython3",
   "version": "3.7.4"
  }
 },
 "nbformat": 4,
 "nbformat_minor": 4
}
