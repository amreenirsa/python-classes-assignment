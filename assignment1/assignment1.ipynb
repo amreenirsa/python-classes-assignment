{
 "cells": [
  {
   "cell_type": "code",
   "execution_count": 13,
   "metadata": {},
   "outputs": [
    {
     "name": "stdout",
     "output_type": "stream",
     "text": [
      "Twinkle, twinkle, little star,\n",
      "        How I wonder what you are!\n",
      "            Up above the world so high,\n",
      "            Like a diamond in the sky.\n",
      "Twinkle, twinkle, little star,\n",
      "     How I wonder what you are \n"
     ]
    }
   ],
   "source": [
    "\"\"\"1.Write a Python program to print the following string in a specific format\n",
    "(see the output).\n",
    "Twinkle, twinkle, little star,\n",
    "How I wonder what you are!\n",
    "Up above the world so high,\n",
    "Like a diamond in the sky.\n",
    "Twinkle, twinkle, little star,\n",
    "How I wonder what you are\n",
    "\"\"\"\n",
    "print( \"Twinkle, twinkle, little star,\" + \"\\n\" +\n",
    "       \"        How I wonder what you are!\"  + \"\\n\"  +\n",
    "       \"            Up above the world so high,\" + \"\\n\" +\n",
    "       \"            Like a diamond in the sky.\" + \"\\n\" +\n",
    "       \"Twinkle, twinkle, little star,\" + \"\\n\"  +\n",
    "        \"     How I wonder what you are \");"
   ]
  },
  {
   "cell_type": "code",
   "execution_count": 14,
   "metadata": {},
   "outputs": [
    {
     "name": "stdout",
     "output_type": "stream",
     "text": [
      "  run the command python --version in my command line or shell \n"
     ]
    }
   ],
   "source": [
    "#2. Write a Python program to get the Python version you are using\n",
    "print( \"  Run the command python --version in my command line or shell \");"
   ]
  },
  {
   "cell_type": "code",
   "execution_count": 28,
   "metadata": {},
   "outputs": [
    {
     "name": "stdout",
     "output_type": "stream",
     "text": [
      "3/11/2019\n"
     ]
    }
   ],
   "source": [
    "#3. Write a Python program to display the current date and time.\n",
    "\n",
    "date = \"3\"\n",
    "sep = \"/\"\n",
    "month = \"11\"\n",
    "year = \"2019\"\n",
    "\n",
    "\n",
    "print(date + sep + month + sep + year\n"
   ]
  },
  {
   "cell_type": "code",
   "execution_count": 1,
   "metadata": {},
   "outputs": [
    {
     "name": "stdout",
     "output_type": "stream",
     "text": [
      "please enter the radius value 6\n",
      "the circumference of a circle is 37.714285714285715\n"
     ]
    }
   ],
   "source": [
    "\"\"\"4. Write a Python program which accepts the radius of a circle from the user\n",
    "and compute the area.\"\"\"\n",
    "r = int (input (\"please enter the radius value \")) \n",
    "pi = 22/7\n",
    "ans =  2 * pi * r\n",
    "print(\"The circumference of a circle is \" + str(ans))\n"
   ]
  },
  {
   "cell_type": "code",
   "execution_count": 3,
   "metadata": {},
   "outputs": [
    {
     "name": "stdout",
     "output_type": "stream",
     "text": [
      "please enter the first namedd\n",
      "please enter the first name44\n",
      "44 dd\n"
     ]
    }
   ],
   "source": [
    "\"\"\"Write a Python program which accepts the user's first and last name and\n",
    "print them in reverse order with a space between them.\"\"\"\n",
    "firstName = input (\"please enter the first name\")\n",
    "lastName = input (\"please enter the first name\") \n",
    "print(lastName + \" \" + firstName) "
   ]
  },
  {
   "cell_type": "code",
   "execution_count": 5,
   "metadata": {},
   "outputs": [
    {
     "name": "stdout",
     "output_type": "stream",
     "text": [
      "please enter the first number 4\n",
      "please enter the second number  4\n",
      "sum off two number is8\n"
     ]
    }
   ],
   "source": [
    "\"\"\"Write a python program which takes two inputs from user and print them\n",
    "addition\"\"\"\n",
    "firstNum = int (input (\"please enter the first number \")) \n",
    "secNum = int (input (\"please enter the second number  \")) \n",
    "add = firstNum + secNum\n",
    "print(\"Sum off two number is \" + str(add)) "
   ]
  },
  {
   "cell_type": "code",
   "execution_count": null,
   "metadata": {},
   "outputs": [],
   "source": []
  }
 ],
 "metadata": {
  "kernelspec": {
   "display_name": "Python 3",
   "language": "python",
   "name": "python3"
  },
  "language_info": {
   "codemirror_mode": {
    "name": "ipython",
    "version": 3
   },
   "file_extension": ".py",
   "mimetype": "text/x-python",
   "name": "python",
   "nbconvert_exporter": "python",
   "pygments_lexer": "ipython3",
   "version": "3.7.4"
  }
 },
 "nbformat": 4,
 "nbformat_minor": 2
}
